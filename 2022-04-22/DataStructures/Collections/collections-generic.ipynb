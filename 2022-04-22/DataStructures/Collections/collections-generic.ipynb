{
 "cells": [
  {
   "cell_type": "markdown",
   "metadata": {},
   "source": [
    "# Collection.Generic\n",
    "\n",
    "- Collection mit Elementen vom Typ T\n",
    "  - Dictionary<TKey, TValue>\n",
    "  - List\\<T>\n",
    "  - Queue\\<T>\n",
    "  - SortedList<TKey, TValue>\n",
    "  - Stack\\<T>"
   ]
  },
  {
   "cell_type": "markdown",
   "metadata": {},
   "source": [
    "## Dictionary<TKey, TValue>"
   ]
  },
  {
   "cell_type": "code",
   "execution_count": null,
   "metadata": {
    "dotnet_interactive": {
     "language": "csharp"
    },
    "vscode": {
     "languageId": "dotnet-interactive.csharp"
    }
   },
   "outputs": [],
   "source": [
    "Dictionary<int, String> d = new();\n",
    "d.Add(1, \"Eins\");\n",
    "d.Add(2, \"Heinz\");\n",
    "d.Add(10, \"John\");\n",
    "\n",
    "foreach (KeyValuePair<int, String> item in d)\n",
    "{\n",
    "    Console.WriteLine(item.Key + \": \" + item.Value);\n",
    "}"
   ]
  },
  {
   "cell_type": "markdown",
   "metadata": {},
   "source": [
    "## List\\<T>"
   ]
  },
  {
   "cell_type": "code",
   "execution_count": null,
   "metadata": {
    "dotnet_interactive": {
     "language": "csharp"
    },
    "vscode": {
     "languageId": "dotnet-interactive.csharp"
    }
   },
   "outputs": [],
   "source": [
    "List<int> l = new();\n",
    "l.Add(1);\n",
    "l.Add(2);\n",
    "l.Add(3);\n",
    "\n",
    "foreach (var item in l)\n",
    "{\n",
    "    Console.WriteLine(item);\n",
    "}"
   ]
  },
  {
   "cell_type": "markdown",
   "metadata": {},
   "source": [
    "## Queue\\<T>"
   ]
  },
  {
   "cell_type": "code",
   "execution_count": null,
   "metadata": {
    "dotnet_interactive": {
     "language": "csharp"
    },
    "vscode": {
     "languageId": "dotnet-interactive.csharp"
    }
   },
   "outputs": [],
   "source": [
    "Queue<String> q = new();\n",
    "q.Enqueue(\"Hello\");\n",
    "q.Enqueue(\"World\");\n",
    "\n",
    "while(q.Count != 0)\n",
    "{\n",
    "    Console.WriteLine(q.Dequeue());\n",
    "}"
   ]
  },
  {
   "cell_type": "markdown",
   "metadata": {},
   "source": [
    "## SortedList<TKey, TValue>"
   ]
  },
  {
   "cell_type": "code",
   "execution_count": null,
   "metadata": {
    "dotnet_interactive": {
     "language": "csharp"
    },
    "vscode": {
     "languageId": "dotnet-interactive.csharp"
    }
   },
   "outputs": [],
   "source": [
    "SortedList<int, String> s = new();\n",
    "s.Add(1, \"Eins\");\n",
    "s.Add(2, \"Zwei\");\n",
    "s.Add(3, \"Drei\");\n",
    "\n",
    "foreach (var item in s)\n",
    "{\n",
    "    Console.WriteLine(item.Key + \": \" + item.Value);\n",
    "}"
   ]
  },
  {
   "cell_type": "markdown",
   "metadata": {},
   "source": [
    "## Stack\\<T>"
   ]
  },
  {
   "cell_type": "code",
   "execution_count": null,
   "metadata": {
    "dotnet_interactive": {
     "language": "csharp"
    },
    "vscode": {
     "languageId": "dotnet-interactive.csharp"
    }
   },
   "outputs": [],
   "source": [
    "Stack<String> s = new();\n",
    "s.Push(\"Hello\");\n",
    "s.Push(\"World\");\n",
    "s.Push(\"!\");\n",
    "\n",
    "while(s.Count != 0)\n",
    "{\n",
    "    Console.WriteLine(s.Pop());\n",
    "}"
   ]
  }
 ],
 "metadata": {
  "kernelspec": {
   "display_name": ".NET (C#)",
   "language": "C#",
   "name": ".net-csharp"
  },
  "language_info": {
   "file_extension": ".cs",
   "mimetype": "text/x-csharp",
   "name": "C#",
   "pygments_lexer": "csharp",
   "version": "9.0"
  },
  "orig_nbformat": 4
 },
 "nbformat": 4,
 "nbformat_minor": 2
}
