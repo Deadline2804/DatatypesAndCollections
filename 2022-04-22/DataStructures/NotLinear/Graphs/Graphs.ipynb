{
 "cells": [
  {
   "cell_type": "markdown",
   "metadata": {},
   "source": [
    "# Graphs"
   ]
  },
  {
   "cell_type": "markdown",
   "metadata": {},
   "source": [
    "## Bestandteile\n",
    "\n",
    "- Knoten (Punkte)\n",
    "- Kanten"
   ]
  },
  {
   "cell_type": "markdown",
   "metadata": {},
   "source": [
    "![Graph](https://upload.wikimedia.org/wikipedia/commons/thumb/b/bc/CPT-Graphs-directed-weighted-ex1.svg/1024px-CPT-Graphs-directed-weighted-ex1.svg.png)"
   ]
  },
  {
   "cell_type": "markdown",
   "metadata": {},
   "source": [
    "## Arten von Graphen\n",
    "\n",
    "- Endliche Graphen\n",
    "  - Anzahl der Knoten und Kanten limitiert\n",
    "- Unendliche Graphen\n",
    "  - Anzahl der Knoten und Kanten endlos\n",
    "- Triviale Graphen\n",
    "  - ein Graph aus einem Knoten und keine Kanten\n",
    "- Einfache Graphen\n",
    "  - jedes Knotenpaar nur eine Kante\n",
    "- Multigraphen\n",
    "  - manche Knotenpaare mit mehreren Kanten zueinander\n",
    "- Nullgraphen\n",
    "  - Knoten, aber keine Kanten\n",
    "- Pseudographen\n",
    "  - Selfloop; Kante auf sich selbst\n",
    "- Gewichtete Graphen\n",
    "  - Kanten sind beschriftet\n",
    "- Gezielte Graphen\n",
    "  - Kanten haben nur eine Richtung\n",
    "- Nicht gezielte Graphen\n",
    "  - Kanten gehen in beide Richtungen\n",
    "- Subgraph\n",
    "  - Bestandteil eines anderen, größeren Graphen"
   ]
  },
  {
   "cell_type": "markdown",
   "metadata": {},
   "source": [
    "## Terminologie\n",
    "\n",
    "- Kante\n",
    "  - hat an jedem der zwei Enden einen Knoten\n",
    "- 2 Knoten, die Enpunkte der gleichen Kante sind nennt man benachbart\n",
    "- Senke\n",
    "  - Knoten ohne Ausgangskanten\n",
    "- Quelle\n",
    "  - Knoten ohne Eingangskanten\n",
    "- Grad\n",
    "  - Anzahl der Kanten eines Knoten\n",
    "- Pfad\n",
    "  - Ansammlung verschiedener Knoten verbunden durch Kanten\n",
    "- Zyklus\n",
    "  - Pfad wo Start- und Endpunkt gleich sind\n",
    "- Einfacher Pfad\n",
    "  - Pfad ohne sich wiederholende Knoten"
   ]
  },
  {
   "cell_type": "markdown",
   "metadata": {},
   "source": [
    "## Darstellung von Graphen\n",
    "\n",
    "- Adjazenzmatrix (Nachbarschaftsmatrix)\n",
    "- Adjazenzliste (Nachbarschaftsliste)"
   ]
  },
  {
   "cell_type": "markdown",
   "metadata": {},
   "source": [
    "### Adjazenzmatrix\n",
    "\n",
    "- für jeden Knoten eine Zeile und eine Spalte\n",
    "- gibt es eine Kante zwischen dem Knoten der Spalte und dem Knoten der Zeile, so wird eine 1 eingetragen, ansonsten eine 0 (Ausnahme gewichtete Graphen, da wird statt der 1 die Gewichtung eingetragen)"
   ]
  },
  {
   "cell_type": "markdown",
   "metadata": {},
   "source": [
    "![Adjazenzmatrix](https://wikimedia.org/api/rest_v1/media/math/render/svg/baf5d604fec8ccaa37056a87411c0a7e3920730e)"
   ]
  },
  {
   "cell_type": "markdown",
   "metadata": {},
   "source": [
    "### Adjazenzliste\n",
    "\n",
    "- für jeden Knoten werden die Nachbarn in einer Liste eingetragen"
   ]
  }
 ],
 "metadata": {
  "kernelspec": {
   "display_name": ".NET (C#)",
   "language": "C#",
   "name": ".net-csharp"
  },
  "language_info": {
   "file_extension": ".cs",
   "mimetype": "text/x-csharp",
   "name": "C#",
   "pygments_lexer": "csharp",
   "version": "9.0"
  },
  "orig_nbformat": 4
 },
 "nbformat": 4,
 "nbformat_minor": 2
}
