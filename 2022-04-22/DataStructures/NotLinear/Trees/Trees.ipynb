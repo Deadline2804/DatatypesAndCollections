{
 "cells": [
  {
   "cell_type": "markdown",
   "metadata": {},
   "source": [
    "# Trees and Graphs"
   ]
  },
  {
   "cell_type": "markdown",
   "metadata": {},
   "source": [
    "## Trees\n",
    "\n",
    "- Darstellung hierachischer Daten\n",
    "- jeder Knoten hat 2 Komponenten\n",
    "  - Data\n",
    "  - References\n",
    "\n",
    "- keine Festlegung der Länge nötig"
   ]
  },
  {
   "cell_type": "markdown",
   "metadata": {},
   "source": [
    "![Tree](https://upload.wikimedia.org/wikipedia/commons/thumb/5/5f/Tree_%28computer_science%29.svg/800px-Tree_%28computer_science%29.svg.png)"
   ]
  },
  {
   "cell_type": "markdown",
   "metadata": {},
   "source": [
    "### Terminologie\n",
    "\n",
    "- oberster Knoten: Root (Wurzel)\n",
    "- Linker Knoten \"Left Subtree\"\n",
    "- rechter Knoten \"Right Subtree\"\n",
    "- oberer Knoten: Parent-Node\n",
    "- abzweigende Knoten: Children-Node\n",
    "- Verbindung zwischen Parent- und Children-Node: Edge\n",
    "- Knoten ohne Children-Nodes: Leaf\n",
    "- Children mit dem selben Parent: Sibling\n",
    "- Parent, grandparent, ...: Ancestor\n",
    "- Länge von Root bis zur Node: Depth\n",
    "- Länge von Node bis tiefster Node: Heigth"
   ]
  },
  {
   "cell_type": "markdown",
   "metadata": {},
   "source": [
    "### Binary Tree\n",
    "\n",
    "- jede Node hat null, eins oder zwei Children\n",
    "- 3 Arten\n",
    "  - Full Binary Tree\n",
    "    - jede Node hat entweder keine oder zwei Children\n",
    "  - Perfect Binary Tree\n",
    "    - jede Nicht-Leaf-Node hat zwei Children und alle Leaf-nodes sind auf einem Level\n",
    "  - Complete Binary Tree\n",
    "    - jedes Level (mit Ausnahme des letztens) muss vollständig gefüllt sein und im letzen Level müssen die Leaf-Nodes von links aus gefüllt sein"
   ]
  }
 ],
 "metadata": {
  "kernelspec": {
   "display_name": ".NET (C#)",
   "language": "C#",
   "name": ".net-csharp"
  },
  "language_info": {
   "file_extension": ".cs",
   "mimetype": "text/x-csharp",
   "name": "C#",
   "pygments_lexer": "csharp",
   "version": "9.0"
  },
  "orig_nbformat": 4
 },
 "nbformat": 4,
 "nbformat_minor": 2
}
