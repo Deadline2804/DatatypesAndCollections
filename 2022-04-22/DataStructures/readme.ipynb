{
 "cells": [
  {
   "cell_type": "markdown",
   "metadata": {},
   "source": [
    "# Collections und Data Structures\n",
    "\n",
    "## Data Struture\n",
    "\n",
    "- ist die Art und Weise, Daten zu speichern und zu organisieren\n",
    "- teilt sich auf in primitiv (primitive Datentypen) und nicht primitiv\n",
    "- nicht primitiv in Linear (Collections) und nicht linear (Tree, Graph)\n",
    "\n",
    "## Collection\n",
    "\n",
    "- Data Structures, die ein oder mehrere Elemente eines Typen enthalten"
   ]
  },
  {
   "cell_type": "markdown",
   "metadata": {},
   "source": [
    "## Arten von Collections\n",
    "\n",
    "- Collection\n",
    "- Collections.Generic\n",
    "- Collections.Concurrent"
   ]
  },
  {
   "cell_type": "markdown",
   "metadata": {},
   "source": [
    "## Geschwindigkeit\n",
    "\n",
    "| **Collection**       | **Leseperfomance**      | **Schreibperfomance** |\n",
    "| -------------------- | ----------------------- | --------------------- |\n",
    "| **Dictionary**       | O(1)                    | O(1)                  |\n",
    "| **SortedDictionary** | O(log n)                | O(log n)              |\n",
    "| **SortedList**           | O(log n)                | O(n)                  |\n",
    "| **List**             | Index: O(1); Value O(n) | O(n)                  |\n",
    "| **LinkedList**       | O(n)                    | O(1)                  |\n",
    "| **HashSet**          | O(1)                    | O(1)                  |\n",
    "| **SortedSet**        | O(log n)                | O(log n)              |\n",
    "| **Stack**            | O(1)                    | O(1)                  |\n",
    "| **Queue**            | O(1)                    | O(1)                  |"
   ]
  }
 ],
 "metadata": {
  "kernelspec": {
   "display_name": ".NET (C#)",
   "language": "C#",
   "name": ".net-csharp"
  },
  "language_info": {
   "file_extension": ".cs",
   "mimetype": "text/x-csharp",
   "name": "C#",
   "pygments_lexer": "csharp",
   "version": "9.0"
  },
  "orig_nbformat": 4
 },
 "nbformat": 4,
 "nbformat_minor": 2
}
