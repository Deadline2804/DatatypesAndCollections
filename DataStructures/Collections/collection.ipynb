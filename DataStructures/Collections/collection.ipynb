{
 "cells": [
  {
   "cell_type": "markdown",
   "metadata": {},
   "source": [
    "# Collection\n",
    "\n",
    "- Collection ohne wirklichen Datentyp; Elemente werden als Typ Objekt gespeichert\n",
    "  - ArrayList\n",
    "  - Hashtable\n",
    "  - Queue\n",
    "  - Stack"
   ]
  },
  {
   "cell_type": "markdown",
   "metadata": {},
   "source": [
    "## ArrayList"
   ]
  },
  {
   "cell_type": "code",
   "execution_count": null,
   "metadata": {
    "dotnet_interactive": {
     "language": "csharp"
    },
    "vscode": {
     "languageId": "dotnet-interactive.csharp"
    }
   },
   "outputs": [
    {
     "name": "stdout",
     "output_type": "stream",
     "text": [
      "Hello\r\n",
      "World\r\n",
      "1234\r\n",
      "True\r\n"
     ]
    }
   ],
   "source": [
    "ArrayList a = new ArrayList();\n",
    "a.Add(\"Hello\");\n",
    "a.Add(\"World\");\n",
    "a.Add(1234);\n",
    "a.Add(true);\n",
    "\n",
    "foreach (var item in a)\n",
    "{\n",
    "    Console.WriteLine(item);\n",
    "}"
   ]
  },
  {
   "cell_type": "markdown",
   "metadata": {},
   "source": [
    "## Hashtable"
   ]
  },
  {
   "cell_type": "code",
   "execution_count": null,
   "metadata": {
    "dotnet_interactive": {
     "language": "csharp"
    },
    "vscode": {
     "languageId": "dotnet-interactive.csharp"
    }
   },
   "outputs": [],
   "source": [
    "Hashtable h = new();\n",
    "h.Add(\"string\", \"Hello World\");\n",
    "h.Add(\"int\", 5);\n",
    "h.Add(\"bool\", true);\n",
    "h.Add(\"char\", 'g');\n",
    "\n",
    "foreach (DictionaryEntry item in h)\n",
    "{\n",
    "    Console.WriteLine(item.Key + \": \" + item.Value);\n",
    "}"
   ]
  },
  {
   "cell_type": "markdown",
   "metadata": {},
   "source": [
    "## Queue"
   ]
  },
  {
   "cell_type": "code",
   "execution_count": null,
   "metadata": {
    "dotnet_interactive": {
     "language": "csharp"
    },
    "vscode": {
     "languageId": "dotnet-interactive.csharp"
    }
   },
   "outputs": [],
   "source": [
    "Queue q = new();\n",
    "q.Enqueue(\"Hello\");\n",
    "q.Enqueue(\"World\");\n",
    "q.Enqueue(1234);\n",
    "q.Enqueue(true);\n",
    "\n",
    "while(q.Count != 0)\n",
    "{\n",
    "    Console.WriteLine(q.Dequeue());\n",
    "}"
   ]
  },
  {
   "cell_type": "markdown",
   "metadata": {},
   "source": [
    "## Stack"
   ]
  },
  {
   "cell_type": "code",
   "execution_count": null,
   "metadata": {
    "dotnet_interactive": {
     "language": "csharp"
    },
    "vscode": {
     "languageId": "dotnet-interactive.csharp"
    }
   },
   "outputs": [],
   "source": [
    "Stack s = new();\n",
    "s.Push(\"Hello\");\n",
    "s.Push(\"World\");\n",
    "s.Push(1234);\n",
    "s.Push(true);\n",
    "\n",
    "while(s.Count != 0)\n",
    "{\n",
    "    Console.WriteLine(s.Pop());\n",
    "}"
   ]
  }
 ],
 "metadata": {
  "kernelspec": {
   "display_name": ".NET (C#)",
   "language": "C#",
   "name": ".net-csharp"
  },
  "language_info": {
   "file_extension": ".cs",
   "mimetype": "text/x-csharp",
   "name": "C#",
   "pygments_lexer": "csharp",
   "version": "9.0"
  },
  "orig_nbformat": 4
 },
 "nbformat": 4,
 "nbformat_minor": 2
}
