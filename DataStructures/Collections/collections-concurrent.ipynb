{
 "cells": [
  {
   "cell_type": "markdown",
   "metadata": {},
   "source": [
    "# Collection.Concurrent\n",
    "\n",
    "- Collection die von mehreren Threads gleichzeitig benutzt werden\n",
    "  - ConcurrentQueue<T>\n",
    "  - ConcurrentStack<T>\n",
    "  - ConcurrentDictionary<TKey, TValue>"
   ]
  },
  {
   "cell_type": "markdown",
   "metadata": {},
   "source": [
    "## ConcurrentQueue\\<T>"
   ]
  },
  {
   "cell_type": "code",
   "execution_count": null,
   "metadata": {
    "dotnet_interactive": {
     "language": "csharp"
    },
    "vscode": {
     "languageId": "dotnet-interactive.csharp"
    }
   },
   "outputs": [
    {
     "name": "stdout",
     "output_type": "stream",
     "text": [
      "Hello\r\n",
      "World\r\n",
      "!\r\n"
     ]
    }
   ],
   "source": [
    "using System.Collections.Concurrent;\n",
    "\n",
    "ConcurrentQueue<String> q = new();\n",
    "q.Enqueue(\"Hello\");\n",
    "q.Enqueue(\"World\");\n",
    "q.Enqueue(\"!\");\n",
    "\n",
    "while(q.TryDequeue(out var result))\n",
    "{\n",
    "    Console.WriteLine(result);\n",
    "}"
   ]
  },
  {
   "cell_type": "markdown",
   "metadata": {},
   "source": [
    "## ConcurrentStack\\<T>"
   ]
  },
  {
   "cell_type": "code",
   "execution_count": null,
   "metadata": {
    "dotnet_interactive": {
     "language": "csharp"
    },
    "vscode": {
     "languageId": "dotnet-interactive.csharp"
    }
   },
   "outputs": [],
   "source": [
    "ConcurrentStack<String> s = new();\n",
    "s.Push(\"Hello\");\n",
    "s.Push(\"World\");\n",
    "s.Push(\"!\");\n",
    "\n",
    "while(s.TryPop(out var result))\n",
    "{\n",
    "    Console.WriteLine(result);\n",
    "}"
   ]
  },
  {
   "cell_type": "markdown",
   "metadata": {},
   "source": [
    "## ConcurrentDictionary<TKey, TValue>"
   ]
  },
  {
   "cell_type": "code",
   "execution_count": null,
   "metadata": {
    "dotnet_interactive": {
     "language": "csharp"
    },
    "vscode": {
     "languageId": "dotnet-interactive.csharp"
    }
   },
   "outputs": [],
   "source": [
    "ConcurrentDictionary<int, String> d = new();\n",
    "d.TryAdd(1, \"Eins\");\n",
    "d.TryAdd(2, \"Heinz\");\n",
    "d.TryAdd(10, \"John\");\n",
    "\n",
    "foreach (KeyValuePair<int, String> item in d)\n",
    "{\n",
    "    Console.WriteLine(item.Key + \": \" + item.Value);\n",
    "}"
   ]
  },
  {
   "cell_type": "markdown",
   "metadata": {},
   "source": [
    "## Beispiel ConcurrentStack\\<T> vs. Stack\\<T>"
   ]
  },
  {
   "cell_type": "code",
   "execution_count": null,
   "metadata": {
    "dotnet_interactive": {
     "language": "csharp"
    },
    "vscode": {
     "languageId": "dotnet-interactive.csharp"
    }
   },
   "outputs": [
    {
     "name": "stdout",
     "output_type": "stream",
     "text": [
      "ConStack: !\r\n",
      "ConStack: World\r\n",
      "ConStack: Hello\r\n",
      "Stack: !\r\n",
      "Stack: World\r\n",
      "Stack: Hello\r\n"
     ]
    }
   ],
   "source": [
    "using System.Threading;\n",
    "\n",
    "public static ConcurrentStack<String> cs = new();\n",
    "cs.Push(\"Hello\");\n",
    "cs.Push(\"World\");\n",
    "cs.Push(\"!\");\n",
    "\n",
    "public static Stack<String> s = new();\n",
    "s.Push(\"Hello\");\n",
    "s.Push(\"World\");\n",
    "s.Push(\"!\");\n",
    "    \n",
    "    Thread thrS1 = new Thread(PopConStack);\n",
    "    Thread thrS2 = new Thread(PopConStack);\n",
    "    Thread thrS3 = new Thread(PopConStack);\n",
    "\n",
    "    Thread thrCS1 = new Thread(PopStack);\n",
    "    Thread thrCS2 = new Thread(PopStack);\n",
    "    Thread thrCS3 = new Thread(PopStack);\n",
    "\n",
    "    thrS1.Start();\n",
    "    thrS2.Start();\n",
    "    thrS3.Start();\n",
    "\n",
    "    thrCS1.Start();\n",
    "    thrCS2.Start();\n",
    "    thrCS3.Start();\n",
    "\n",
    "public static void PopStack()\n",
    "{\n",
    "    Console.WriteLine(\"Stack: \" + s.Pop());\n",
    "}\n",
    "\n",
    "public static void PopConStack()\n",
    "{\n",
    "    if(cs.TryPop(out var result))\n",
    "    {\n",
    "        Console.WriteLine(\"ConStack: \" + result);\n",
    "    }\n",
    "}"
   ]
  }
 ],
 "metadata": {
  "kernelspec": {
   "display_name": ".NET (C#)",
   "language": "C#",
   "name": ".net-csharp"
  },
  "language_info": {
   "file_extension": ".cs",
   "mimetype": "text/x-csharp",
   "name": "C#",
   "pygments_lexer": "csharp",
   "version": "9.0"
  },
  "orig_nbformat": 4
 },
 "nbformat": 4,
 "nbformat_minor": 2
}
