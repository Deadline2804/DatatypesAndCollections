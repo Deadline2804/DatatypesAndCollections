{
 "cells": [
  {
   "cell_type": "markdown",
   "metadata": {},
   "source": [
    "# Trees Depth-First-Traversal"
   ]
  },
  {
   "cell_type": "markdown",
   "metadata": {},
   "source": [
    "## Typen von Depth-First-Traversal\n",
    "\n",
    "- Pre-Order Traversal\n",
    "- In-Order Traversal\n",
    "- Post-Order Traversal"
   ]
  },
  {
   "cell_type": "markdown",
   "metadata": {},
   "source": [
    "### Pre-Order Traversal\n",
    "\n",
    "- Root\n",
    "- Linke SubTrees durchlaufen\n",
    "- Rechte SubTrees durchlaufen"
   ]
  },
  {
   "cell_type": "code",
   "execution_count": null,
   "metadata": {
    "dotnet_interactive": {
     "language": "csharp"
    },
    "vscode": {
     "languageId": "dotnet-interactive.csharp"
    }
   },
   "outputs": [
    {
     "ename": "Error",
     "evalue": "(1,15): error CS0246: Der Typ- oder Namespacename \"Node\" wurde nicht gefunden (möglicherweise fehlt eine using-Direktive oder ein Assemblyverweis).",
     "output_type": "error",
     "traceback": [
      "(1,15): error CS0246: Der Typ- oder Namespacename \"Node\" wurde nicht gefunden (möglicherweise fehlt eine using-Direktive oder ein Assemblyverweis)."
     ]
    }
   ],
   "source": [
    "void preOrder(Node node) {  \n",
    "    if (node == null)  \n",
    "       return;  \n",
    "    Console.WriteLine(node.Data + \" \");  \n",
    "    preOrder(node.LeftNode);  \n",
    "    preOrder(node.RightNode);  \n",
    " }"
   ]
  },
  {
   "cell_type": "markdown",
   "metadata": {},
   "source": [
    "### In-Order Traversal\n",
    "\n",
    "- Linke SubTrees durchlaufen\n",
    "- Root\n",
    "- Rechte SubTrees durchlaufen"
   ]
  },
  {
   "cell_type": "code",
   "execution_count": null,
   "metadata": {
    "dotnet_interactive": {
     "language": "csharp"
    },
    "vscode": {
     "languageId": "dotnet-interactive.csharp"
    }
   },
   "outputs": [],
   "source": [
    "void inOrder(Node node) {  \n",
    "    if (node == null) {  \n",
    "    return;  \n",
    "    }  \n",
    "    inOrder(node.LeftNode);  \n",
    "    Console.WriteLine(node.Data + \" \");  \n",
    "    inOrder(node.RightNode); \n",
    "}"
   ]
  },
  {
   "cell_type": "markdown",
   "metadata": {},
   "source": [
    "### Post-Order Traversal\n",
    "\n",
    "- Linke SubTrees durchlaufen\n",
    "- Rechte SubTrees durchlaufen\n",
    "- Root"
   ]
  },
  {
   "cell_type": "code",
   "execution_count": null,
   "metadata": {
    "dotnet_interactive": {
     "language": "csharp"
    },
    "vscode": {
     "languageId": "dotnet-interactive.csharp"
    }
   },
   "outputs": [],
   "source": [
    "void postOrder(Node node) {  \n",
    "    if (node == null)  \n",
    "    return;  \n",
    "    postOrder(node.LeftNode);  \n",
    "    postOrder(node.RightNode);  \n",
    "    Console.WriteLine(node.Data + \" \");  \n",
    "}"
   ]
  }
 ],
 "metadata": {
  "kernelspec": {
   "display_name": ".NET (C#)",
   "language": "C#",
   "name": ".net-csharp"
  },
  "language_info": {
   "file_extension": ".cs",
   "mimetype": "text/x-csharp",
   "name": "C#",
   "pygments_lexer": "csharp",
   "version": "9.0"
  },
  "orig_nbformat": 4
 },
 "nbformat": 4,
 "nbformat_minor": 2
}
